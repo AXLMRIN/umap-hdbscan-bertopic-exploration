{
 "cells": [
  {
   "cell_type": "markdown",
   "metadata": {},
   "source": [
    "# THIS IS BROKEN - NEED REWRITING"
   ]
  },
  {
   "cell_type": "code",
   "execution_count": 6,
   "metadata": {},
   "outputs": [
    {
     "data": {
      "text/html": [
       "<div>\n",
       "<style scoped>\n",
       "    .dataframe tbody tr th:only-of-type {\n",
       "        vertical-align: middle;\n",
       "    }\n",
       "\n",
       "    .dataframe tbody tr th {\n",
       "        vertical-align: top;\n",
       "    }\n",
       "\n",
       "    .dataframe thead th {\n",
       "        text-align: right;\n",
       "    }\n",
       "</style>\n",
       "<table border=\"1\" class=\"dataframe\">\n",
       "  <thead>\n",
       "    <tr style=\"text-align: right;\">\n",
       "      <th></th>\n",
       "      <th>date_soutenance</th>\n",
       "      <th>discipline</th>\n",
       "      <th>lang_res_en</th>\n",
       "      <th>lang_res_fr</th>\n",
       "      <th>resumes.en</th>\n",
       "      <th>resumes.fr</th>\n",
       "      <th>sujets_rameau_en</th>\n",
       "      <th>sujets_rameau_fr</th>\n",
       "      <th>swapped</th>\n",
       "      <th>titres.en</th>\n",
       "      <th>titres.fr</th>\n",
       "      <th>CI</th>\n",
       "    </tr>\n",
       "  </thead>\n",
       "  <tbody>\n",
       "    <tr>\n",
       "      <th>0</th>\n",
       "      <td>2008-01-01</td>\n",
       "      <td>Écologie microbienne</td>\n",
       "      <td>EN</td>\n",
       "      <td>FR</td>\n",
       "      <td>In disease suppressive soils, the rhizosphere ...</td>\n",
       "      <td>Dans les sols résistants, la communauté microb...</td>\n",
       "      <td>NaN</td>\n",
       "      <td>Rhizosphère</td>\n",
       "      <td>True</td>\n",
       "      <td>Caractérisation par puce à ADN taxonomique de ...</td>\n",
       "      <td>NaN</td>\n",
       "      <td>CI-0</td>\n",
       "    </tr>\n",
       "    <tr>\n",
       "      <th>1</th>\n",
       "      <td>2007-01-01</td>\n",
       "      <td>Traitement du signal et télécommunications</td>\n",
       "      <td>EN</td>\n",
       "      <td>FR</td>\n",
       "      <td>Nowadays, for the transmission over multipath ...</td>\n",
       "      <td>Actuellement, pour la transmission dans des ca...</td>\n",
       "      <td>NaN</td>\n",
       "      <td>Multiplexage par répartition orthogonale de la...</td>\n",
       "      <td>NaN</td>\n",
       "      <td>Contribution to the study of the OFDM / OQAM a...</td>\n",
       "      <td>Contribution à l'étude des modulations multipo...</td>\n",
       "      <td>CI-1</td>\n",
       "    </tr>\n",
       "    <tr>\n",
       "      <th>2</th>\n",
       "      <td>2005-01-01</td>\n",
       "      <td>Phonétique</td>\n",
       "      <td>EN</td>\n",
       "      <td>FR</td>\n",
       "      <td>Comparison of English with two Asian tone lang...</td>\n",
       "      <td>La mise en regard de données d'anglais et de d...</td>\n",
       "      <td>NaN</td>\n",
       "      <td>Vietnamien (langue) -- Analyse linguistique --...</td>\n",
       "      <td>NaN</td>\n",
       "      <td>A comparison of the prosody of tone languages ...</td>\n",
       "      <td>Prosodie de langues à tons (naxi et vietnamien...</td>\n",
       "      <td>CI-2</td>\n",
       "    </tr>\n",
       "    <tr>\n",
       "      <th>3</th>\n",
       "      <td>2010-01-01</td>\n",
       "      <td>Informatique</td>\n",
       "      <td>EN</td>\n",
       "      <td>FR</td>\n",
       "      <td>Nowdays, the grid computing enables solutions ...</td>\n",
       "      <td>Les grilles informatiques permettent d'envisag...</td>\n",
       "      <td>POSIX (norme)</td>\n",
       "      <td>Entrepôts de données||Langages de programmatio...</td>\n",
       "      <td>NaN</td>\n",
       "      <td>ViSaGe project : VisageFS, a filesystem with a...</td>\n",
       "      <td>Projet ViSaGe : VisageFS, systèmes de fichiers...</td>\n",
       "      <td>CI-3</td>\n",
       "    </tr>\n",
       "    <tr>\n",
       "      <th>4</th>\n",
       "      <td>2008-01-01</td>\n",
       "      <td>Histoire des mondes modernes</td>\n",
       "      <td>EN</td>\n",
       "      <td>FR</td>\n",
       "      <td>The “bouche royale” is a highly structured ins...</td>\n",
       "      <td>La bouche royale est une institution fortement...</td>\n",
       "      <td>Bouche</td>\n",
       "      <td>Approvisionnement||Forces armées -- Hiérarchie...</td>\n",
       "      <td>NaN</td>\n",
       "      <td>The royal “maison bouche” : Specific features,...</td>\n",
       "      <td>La maison bouche royale : caractères, définiti...</td>\n",
       "      <td>CI-4</td>\n",
       "    </tr>\n",
       "  </tbody>\n",
       "</table>\n",
       "</div>"
      ],
      "text/plain": [
       "  date_soutenance                                  discipline lang_res_en  \\\n",
       "0      2008-01-01                        Écologie microbienne          EN   \n",
       "1      2007-01-01  Traitement du signal et télécommunications          EN   \n",
       "2      2005-01-01                                  Phonétique          EN   \n",
       "3      2010-01-01                                Informatique          EN   \n",
       "4      2008-01-01                Histoire des mondes modernes          EN   \n",
       "\n",
       "  lang_res_fr                                         resumes.en  \\\n",
       "0          FR  In disease suppressive soils, the rhizosphere ...   \n",
       "1          FR  Nowadays, for the transmission over multipath ...   \n",
       "2          FR  Comparison of English with two Asian tone lang...   \n",
       "3          FR  Nowdays, the grid computing enables solutions ...   \n",
       "4          FR  The “bouche royale” is a highly structured ins...   \n",
       "\n",
       "                                          resumes.fr sujets_rameau_en  \\\n",
       "0  Dans les sols résistants, la communauté microb...              NaN   \n",
       "1  Actuellement, pour la transmission dans des ca...              NaN   \n",
       "2  La mise en regard de données d'anglais et de d...              NaN   \n",
       "3  Les grilles informatiques permettent d'envisag...    POSIX (norme)   \n",
       "4  La bouche royale est une institution fortement...           Bouche   \n",
       "\n",
       "                                    sujets_rameau_fr swapped  \\\n",
       "0                                        Rhizosphère    True   \n",
       "1  Multiplexage par répartition orthogonale de la...     NaN   \n",
       "2  Vietnamien (langue) -- Analyse linguistique --...     NaN   \n",
       "3  Entrepôts de données||Langages de programmatio...     NaN   \n",
       "4  Approvisionnement||Forces armées -- Hiérarchie...     NaN   \n",
       "\n",
       "                                           titres.en  \\\n",
       "0  Caractérisation par puce à ADN taxonomique de ...   \n",
       "1  Contribution to the study of the OFDM / OQAM a...   \n",
       "2  A comparison of the prosody of tone languages ...   \n",
       "3  ViSaGe project : VisageFS, a filesystem with a...   \n",
       "4  The royal “maison bouche” : Specific features,...   \n",
       "\n",
       "                                           titres.fr    CI  \n",
       "0                                                NaN  CI-0  \n",
       "1  Contribution à l'étude des modulations multipo...  CI-1  \n",
       "2  Prosodie de langues à tons (naxi et vietnamien...  CI-2  \n",
       "3  Projet ViSaGe : VisageFS, systèmes de fichiers...  CI-3  \n",
       "4  La maison bouche royale : caractères, définiti...  CI-4  "
      ]
     },
     "execution_count": 6,
     "metadata": {},
     "output_type": "execute_result"
    }
   ],
   "source": [
    "import pandas as pd\n",
    "import numpy as np\n",
    "\n",
    "df = pd.read_csv(\"../../data/theses-soutenues-clean-with-index.csv\")\n",
    "df.head()"
   ]
  },
  {
   "cell_type": "code",
   "execution_count": 7,
   "metadata": {},
   "outputs": [
    {
     "ename": "KeyError",
     "evalue": "'oai_first_name'",
     "output_type": "error",
     "traceback": [
      "\u001b[31m---------------------------------------------------------------------------\u001b[39m",
      "\u001b[31mKeyError\u001b[39m                                  Traceback (most recent call last)",
      "\u001b[36mFile \u001b[39m\u001b[32m/opt/miniconda3/envs/gen/lib/python3.11/site-packages/pandas/core/indexes/base.py:3812\u001b[39m, in \u001b[36mIndex.get_loc\u001b[39m\u001b[34m(self, key)\u001b[39m\n\u001b[32m   3811\u001b[39m \u001b[38;5;28;01mtry\u001b[39;00m:\n\u001b[32m-> \u001b[39m\u001b[32m3812\u001b[39m     \u001b[38;5;28;01mreturn\u001b[39;00m \u001b[38;5;28;43mself\u001b[39;49m\u001b[43m.\u001b[49m\u001b[43m_engine\u001b[49m\u001b[43m.\u001b[49m\u001b[43mget_loc\u001b[49m\u001b[43m(\u001b[49m\u001b[43mcasted_key\u001b[49m\u001b[43m)\u001b[49m\n\u001b[32m   3813\u001b[39m \u001b[38;5;28;01mexcept\u001b[39;00m \u001b[38;5;167;01mKeyError\u001b[39;00m \u001b[38;5;28;01mas\u001b[39;00m err:\n",
      "\u001b[36mFile \u001b[39m\u001b[32mpandas/_libs/index.pyx:167\u001b[39m, in \u001b[36mpandas._libs.index.IndexEngine.get_loc\u001b[39m\u001b[34m()\u001b[39m\n",
      "\u001b[36mFile \u001b[39m\u001b[32mpandas/_libs/index.pyx:196\u001b[39m, in \u001b[36mpandas._libs.index.IndexEngine.get_loc\u001b[39m\u001b[34m()\u001b[39m\n",
      "\u001b[36mFile \u001b[39m\u001b[32mpandas/_libs/hashtable_class_helper.pxi:7088\u001b[39m, in \u001b[36mpandas._libs.hashtable.PyObjectHashTable.get_item\u001b[39m\u001b[34m()\u001b[39m\n",
      "\u001b[36mFile \u001b[39m\u001b[32mpandas/_libs/hashtable_class_helper.pxi:7096\u001b[39m, in \u001b[36mpandas._libs.hashtable.PyObjectHashTable.get_item\u001b[39m\u001b[34m()\u001b[39m\n",
      "\u001b[31mKeyError\u001b[39m: 'oai_first_name'",
      "\nThe above exception was the direct cause of the following exception:\n",
      "\u001b[31mKeyError\u001b[39m                                  Traceback (most recent call last)",
      "\u001b[36mCell\u001b[39m\u001b[36m \u001b[39m\u001b[32mIn[7]\u001b[39m\u001b[32m, line 1\u001b[39m\n\u001b[32m----> \u001b[39m\u001b[32m1\u001b[39m dfp = df.loc[~\u001b[43mdf\u001b[49m\u001b[43m[\u001b[49m\u001b[33;43m\"\u001b[39;49m\u001b[33;43moai_first_name\u001b[39;49m\u001b[33;43m\"\u001b[39;49m\u001b[43m]\u001b[49m.isna(), :]\n",
      "\u001b[36mFile \u001b[39m\u001b[32m/opt/miniconda3/envs/gen/lib/python3.11/site-packages/pandas/core/frame.py:4107\u001b[39m, in \u001b[36mDataFrame.__getitem__\u001b[39m\u001b[34m(self, key)\u001b[39m\n\u001b[32m   4105\u001b[39m \u001b[38;5;28;01mif\u001b[39;00m \u001b[38;5;28mself\u001b[39m.columns.nlevels > \u001b[32m1\u001b[39m:\n\u001b[32m   4106\u001b[39m     \u001b[38;5;28;01mreturn\u001b[39;00m \u001b[38;5;28mself\u001b[39m._getitem_multilevel(key)\n\u001b[32m-> \u001b[39m\u001b[32m4107\u001b[39m indexer = \u001b[38;5;28;43mself\u001b[39;49m\u001b[43m.\u001b[49m\u001b[43mcolumns\u001b[49m\u001b[43m.\u001b[49m\u001b[43mget_loc\u001b[49m\u001b[43m(\u001b[49m\u001b[43mkey\u001b[49m\u001b[43m)\u001b[49m\n\u001b[32m   4108\u001b[39m \u001b[38;5;28;01mif\u001b[39;00m is_integer(indexer):\n\u001b[32m   4109\u001b[39m     indexer = [indexer]\n",
      "\u001b[36mFile \u001b[39m\u001b[32m/opt/miniconda3/envs/gen/lib/python3.11/site-packages/pandas/core/indexes/base.py:3819\u001b[39m, in \u001b[36mIndex.get_loc\u001b[39m\u001b[34m(self, key)\u001b[39m\n\u001b[32m   3814\u001b[39m     \u001b[38;5;28;01mif\u001b[39;00m \u001b[38;5;28misinstance\u001b[39m(casted_key, \u001b[38;5;28mslice\u001b[39m) \u001b[38;5;129;01mor\u001b[39;00m (\n\u001b[32m   3815\u001b[39m         \u001b[38;5;28misinstance\u001b[39m(casted_key, abc.Iterable)\n\u001b[32m   3816\u001b[39m         \u001b[38;5;129;01mand\u001b[39;00m \u001b[38;5;28many\u001b[39m(\u001b[38;5;28misinstance\u001b[39m(x, \u001b[38;5;28mslice\u001b[39m) \u001b[38;5;28;01mfor\u001b[39;00m x \u001b[38;5;129;01min\u001b[39;00m casted_key)\n\u001b[32m   3817\u001b[39m     ):\n\u001b[32m   3818\u001b[39m         \u001b[38;5;28;01mraise\u001b[39;00m InvalidIndexError(key)\n\u001b[32m-> \u001b[39m\u001b[32m3819\u001b[39m     \u001b[38;5;28;01mraise\u001b[39;00m \u001b[38;5;167;01mKeyError\u001b[39;00m(key) \u001b[38;5;28;01mfrom\u001b[39;00m\u001b[38;5;250m \u001b[39m\u001b[34;01merr\u001b[39;00m\n\u001b[32m   3820\u001b[39m \u001b[38;5;28;01mexcept\u001b[39;00m \u001b[38;5;167;01mTypeError\u001b[39;00m:\n\u001b[32m   3821\u001b[39m     \u001b[38;5;66;03m# If we have a listlike key, _check_indexing_error will raise\u001b[39;00m\n\u001b[32m   3822\u001b[39m     \u001b[38;5;66;03m#  InvalidIndexError. Otherwise we fall through and re-raise\u001b[39;00m\n\u001b[32m   3823\u001b[39m     \u001b[38;5;66;03m#  the TypeError.\u001b[39;00m\n\u001b[32m   3824\u001b[39m     \u001b[38;5;28mself\u001b[39m._check_indexing_error(key)\n",
      "\u001b[31mKeyError\u001b[39m: 'oai_first_name'"
     ]
    }
   ],
   "source": [
    "dfp = df.loc[~df[\"oai_first_name\"].isna(), :]"
   ]
  },
  {
   "cell_type": "code",
   "execution_count": null,
   "metadata": {},
   "outputs": [],
   "source": [
    "def get_year(date : str):\n",
    "    try : \n",
    "        return pd.Timestamp(date).year\n",
    "    except Exception:\n",
    "        return np.nan\n",
    "\n",
    "dfp.loc[:,\"year\"] = dfp.loc[:,\"date_soutenance\"].apply(get_year)"
   ]
  },
  {
   "cell_type": "code",
   "execution_count": null,
   "metadata": {},
   "outputs": [],
   "source": [
    "oai_check = dfp.loc[:,[\"oai_first\",\"year\"]]"
   ]
  },
  {
   "cell_type": "code",
   "execution_count": null,
   "metadata": {},
   "outputs": [],
   "source": [
    "df_to_plot = oai_check.groupby([\"oai_first\",\"year\"], as_index = False).size()"
   ]
  },
  {
   "cell_type": "code",
   "execution_count": null,
   "metadata": {},
   "outputs": [],
   "source": [
    "import plotly.express as px\n",
    "\n",
    "px.line(df_to_plot, x = \"year\", y = \"size\", color = \"oai_first\")"
   ]
  },
  {
   "cell_type": "code",
   "execution_count": null,
   "metadata": {},
   "outputs": [],
   "source": [
    "temp = df_to_embed.groupby([\"oai_first\"], as_index = False).size().sort_values([\"size\"], ascending = False)\n",
    "temp.loc[:,\"index\"] = [i for i in range(len(temp))]\n",
    "oais_to_keep = temp.loc[range(30),\"oai_first\"].to_numpy()\n",
    "px.line(temp, x = \"index\", y = \"size\")"
   ]
  },
  {
   "cell_type": "code",
   "execution_count": null,
   "metadata": {},
   "outputs": [],
   "source": [
    "indexes_to_keep = np.logical_and(dfp[\"year\"] >= 2010, dfp[\"year\"] <= 2022,  np.isin(dfp[\"oai_first\"], oais_to_keep))\n",
    "df_to_embed = dfp.loc[indexes_to_keep,:]"
   ]
  },
  {
   "cell_type": "code",
   "execution_count": null,
   "metadata": {},
   "outputs": [],
   "source": [
    "df_to_save = None\n",
    "\n",
    "for year, df_year in df_to_embed.groupby(\"year\"):\n",
    "    if df_to_save is None:\n",
    "        df_to_save = df_year.sample(n = 500)\n",
    "    else:\n",
    "        df_to_save = pd.concat((df_to_save, df_year.sample(n = 500)))"
   ]
  },
  {
   "cell_type": "code",
   "execution_count": null,
   "metadata": {},
   "outputs": [],
   "source": [
    "# df_to_save.to_csv(\"../../data/theses-soutenues-clean-with-index-to-embed.csv\", index = False)"
   ]
  }
 ],
 "metadata": {
  "kernelspec": {
   "display_name": "gen",
   "language": "python",
   "name": "python3"
  },
  "language_info": {
   "codemirror_mode": {
    "name": "ipython",
    "version": 3
   },
   "file_extension": ".py",
   "mimetype": "text/x-python",
   "name": "python",
   "nbconvert_exporter": "python",
   "pygments_lexer": "ipython3",
   "version": "3.11.11"
  }
 },
 "nbformat": 4,
 "nbformat_minor": 2
}
